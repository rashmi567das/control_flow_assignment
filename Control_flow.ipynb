{
 "cells": [
  {
   "cell_type": "code",
   "execution_count": null,
   "id": "c6b44c70-58d4-4f7a-b39f-3c0c93772225",
   "metadata": {},
   "outputs": [],
   "source": [
    "BASIC IF-ELSE STATEMENTS:"
   ]
  },
  {
   "cell_type": "code",
   "execution_count": 1,
   "id": "886e8316-3092-41c8-9102-5a7551550d51",
   "metadata": {},
   "outputs": [
    {
     "name": "stdin",
     "output_type": "stream",
     "text": [
      "Enter the number:  45\n"
     ]
    },
    {
     "name": "stdout",
     "output_type": "stream",
     "text": [
      "The number is positive:\n"
     ]
    }
   ],
   "source": [
    "number = float(input(\"Enter the number:\"))\n",
    "\n",
    "if number > 0:\n",
    "    print(\"The number is positive:\")\n",
    "else:\n",
    "    print(\"The number is negative:\")"
   ]
  },
  {
   "cell_type": "code",
   "execution_count": 2,
   "id": "84f7f890-0182-4503-9c82-53f6a641e16c",
   "metadata": {},
   "outputs": [
    {
     "name": "stdin",
     "output_type": "stream",
     "text": [
      "Enter the age:  23\n"
     ]
    },
    {
     "name": "stdout",
     "output_type": "stream",
     "text": [
      "person is eligible to vote:\n"
     ]
    }
   ],
   "source": [
    "age = int(input(\"Enter the age:\"))\n",
    "\n",
    "if age >= 0:\n",
    "    print(\"person is eligible to vote:\")\n",
    "else:\n",
    "    print(\"person is not eligible to vote:\")"
   ]
  },
  {
   "cell_type": "code",
   "execution_count": 3,
   "id": "307326ec-73a1-444a-b1f9-935d552c36f2",
   "metadata": {},
   "outputs": [
    {
     "name": "stdin",
     "output_type": "stream",
     "text": [
      "Enter first number 12\n",
      "Enter second number 23\n"
     ]
    },
    {
     "name": "stdout",
     "output_type": "stream",
     "text": [
      "the maximum number is: 23\n"
     ]
    }
   ],
   "source": [
    "num1 = int(input(\"Enter first number\"))\n",
    "num2 = int(input(\"Enter second number\"))\n",
    "\n",
    "if num1 > num2:\n",
    "    max_num = num1\n",
    "else:\n",
    "    max_num = num2\n",
    "print(\"the maximum number is:\", max_num)"
   ]
  },
  {
   "cell_type": "code",
   "execution_count": 4,
   "id": "e276f3ca-2114-459a-842f-75df5fc7f565",
   "metadata": {},
   "outputs": [
    {
     "name": "stdin",
     "output_type": "stream",
     "text": [
      "Enter a year: 46\n"
     ]
    },
    {
     "name": "stdout",
     "output_type": "stream",
     "text": [
      "46 is not a leap year.\n"
     ]
    }
   ],
   "source": [
    "year = int(input(\"Enter a year:\"))\n",
    "\n",
    "if (year % 400 == 0):\n",
    "    print(f\"{year} is a leap year:\")\n",
    "else:\n",
    "    print(f\"{year} is not a leap year.\")"
   ]
  },
  {
   "cell_type": "code",
   "execution_count": 5,
   "id": "b7129b50-a60e-4892-9737-cb09105bd55b",
   "metadata": {},
   "outputs": [
    {
     "name": "stdin",
     "output_type": "stream",
     "text": [
      "Enter a character: a\n"
     ]
    },
    {
     "name": "stdout",
     "output_type": "stream",
     "text": [
      "a is a vowel.\n"
     ]
    }
   ],
   "source": [
    "char = input(\"Enter a character:\")\n",
    "\n",
    "char = char.lower()\n",
    "\n",
    "if char.isalpha():\n",
    "    if char in 'aeiou':\n",
    "        print(f\"{char} is a vowel.\")\n",
    "    else:\n",
    "        print(f\"{char} is a consonant.\")\n",
    "else:\n",
    "    print(f\"Please enter a valid alphabetic character.\")"
   ]
  },
  {
   "cell_type": "code",
   "execution_count": 2,
   "id": "8856a52a-ca5d-46ef-b9ef-0b9c216eadb7",
   "metadata": {},
   "outputs": [
    {
     "name": "stdin",
     "output_type": "stream",
     "text": [
      "Enter a number.  56\n"
     ]
    },
    {
     "name": "stdout",
     "output_type": "stream",
     "text": [
      "56 is even.\n"
     ]
    }
   ],
   "source": [
    "number = int(input(\"Enter a number.\"))\n",
    "\n",
    "if number % 2 == 0:\n",
    "    print(f\"{number} is even.\")\n",
    "else:\n",
    "    print(f\"{number} is odd.\")"
   ]
  },
  {
   "cell_type": "code",
   "execution_count": 3,
   "id": "4b6e354a-040c-41a6-9353-c1c4a93f9bde",
   "metadata": {},
   "outputs": [
    {
     "name": "stdout",
     "output_type": "stream",
     "text": [
      "The absolute value of 56 is 56\n"
     ]
    }
   ],
   "source": [
    "def custom_abs(number):\n",
    "    if number < 0:\n",
    "        return -number\n",
    "    else:\n",
    "        return number\n",
    "    \n",
    "    num = -5\n",
    "\n",
    "absolute_value = custom_abs(number)\n",
    "print(f\"The absolute value of {number} is {absolute_value}\")"
   ]
  },
  {
   "cell_type": "code",
   "execution_count": 8,
   "id": "0d15300b-159f-49d2-a26b-e44c9cfa7244",
   "metadata": {},
   "outputs": [
    {
     "name": "stdin",
     "output_type": "stream",
     "text": [
      "Enter the first number: 90\n",
      "Enter the second number: 78\n",
      "Enter the third number: 67\n"
     ]
    },
    {
     "name": "stdout",
     "output_type": "stream",
     "text": [
      "The largest number among 90.0, 78.0, and 67.0 is 90.0\n"
     ]
    }
   ],
   "source": [
    "num1 = float(input(\"Enter the first number:\"))\n",
    "num2 = float(input(\"Enter the second number:\"))\n",
    "num3 = float(input(\"Enter the third number:\"))\n",
    "\n",
    "if num1 >= num2 and num1 >= num3:\n",
    "    largest_num = num1\n",
    "elif num2 >= num1 and num2 >= num3:\n",
    "    largest_num = num2\n",
    "else:\n",
    "    largest_num = num3\n",
    "\n",
    "print(f\"The largest number among {num1}, {num2}, and {num3} is {largest_num}\")"
   ]
  },
  {
   "cell_type": "code",
   "execution_count": 9,
   "id": "a4a09831-9abf-46b1-b907-637045e8161b",
   "metadata": {},
   "outputs": [
    {
     "name": "stdin",
     "output_type": "stream",
     "text": [
      "Enter a string: racecar\n"
     ]
    },
    {
     "name": "stdout",
     "output_type": "stream",
     "text": [
      "'racecar' is a polindrome.\n"
     ]
    }
   ],
   "source": [
    "def is_polindrome(string):\n",
    "    \n",
    "    cleaned_string = ' '.join(string.split()).lower()\n",
    "    \n",
    "    return cleaned_string == cleaned_string[::-1]\n",
    "\n",
    "user_input = input(\"Enter a string:\")\n",
    "\n",
    "\n",
    "if is_polindrome(user_input):\n",
    "    print(f\"'{user_input}' is a polindrome.\")\n",
    "else:\n",
    "    print(f\"'{user_input}' is not a polindrome.\")"
   ]
  },
  {
   "cell_type": "code",
   "execution_count": 10,
   "id": "0aac1b7f-bc2d-488e-9358-2349f19d02c5",
   "metadata": {},
   "outputs": [
    {
     "name": "stdin",
     "output_type": "stream",
     "text": [
      "Enter the student's score 78\n"
     ]
    },
    {
     "name": "stdout",
     "output_type": "stream",
     "text": [
      "The student's grade is: C\n"
     ]
    }
   ],
   "source": [
    "score = float(input(\"Enter the student's score\"))\n",
    "\n",
    "\n",
    "if score >= 90:\n",
    "    grade = 'A'\n",
    "elif score >= 80:\n",
    "    grade = 'B'\n",
    "elif score >= 70:\n",
    "    grade = 'C'\n",
    "elif score >= 60:\n",
    "    grade = 'D'\n",
    "else:\n",
    "    grade = 'F'\n",
    "    \n",
    "    \n",
    "print(f\"The student's grade is: {grade}\")"
   ]
  },
  {
   "cell_type": "raw",
   "id": "ae97e53a-dcf0-4623-844a-512871d3ca5a",
   "metadata": {},
   "source": [
    "NESTED IF-ELSE STATEMENTS:"
   ]
  },
  {
   "cell_type": "code",
   "execution_count": 11,
   "id": "cf40759c-a416-4c46-ad9b-32a3a4569c4d",
   "metadata": {},
   "outputs": [
    {
     "name": "stdin",
     "output_type": "stream",
     "text": [
      "Enter the first number:  78\n",
      "Enter the second number: 89\n",
      "Enter the third number: 56\n"
     ]
    },
    {
     "name": "stdout",
     "output_type": "stream",
     "text": [
      "The largest number among 78, 89, and 56 is 89:\n"
     ]
    }
   ],
   "source": [
    "num1 = int(input(\"Enter the first number:\"))\n",
    "num2 = int(input(\"Enter the second number:\"))\n",
    "num3 = int(input(\"Enter the third number:\"))\n",
    "\n",
    "if num1 >= num2:\n",
    "    if num1 >= num3:\n",
    "        largest = num1\n",
    "    else:\n",
    "        largest = num3\n",
    "else:\n",
    "    if num2 >= num3:\n",
    "        largest = num2\n",
    "    else:\n",
    "        largest = num3\n",
    "        \n",
    "\n",
    "print(f\"The largest number among {num1}, {num2}, and {num3} is {largest}:\")"
   ]
  },
  {
   "cell_type": "code",
   "execution_count": 12,
   "id": "130e4b00-dd40-426b-937b-73797e140f08",
   "metadata": {},
   "outputs": [
    {
     "name": "stdin",
     "output_type": "stream",
     "text": [
      "Enter the length of the first side: 3.5\n",
      "Enter the length of the second side: 5\n",
      "Enter the length of the third side: 3.5\n"
     ]
    },
    {
     "name": "stdout",
     "output_type": "stream",
     "text": [
      "The triangle is isosceles\n"
     ]
    }
   ],
   "source": [
    "side1 = float(input(\"Enter the length of the first side:\"))\n",
    "side2 = float(input(\"Enter the length of the second side:\"))\n",
    "side3 = float(input(\"Enter the length of the third side:\"))\n",
    "\n",
    "if side1 == side2 == side3:\n",
    "    triangle_type = \"equilateral\"\n",
    "elif side1 == side2 or side1 == side3 or side2 == side3:\n",
    "    triangle_type = \"isosceles\"\n",
    "else:\n",
    "    triangle_type = \"scalene\"\n",
    "    \n",
    "    \n",
    "print(f\"The triangle is\", triangle_type)\n",
    "        "
   ]
  },
  {
   "cell_type": "code",
   "execution_count": 13,
   "id": "ea7bc14c-e797-4020-8899-ea468af6479e",
   "metadata": {},
   "outputs": [
    {
     "name": "stdin",
     "output_type": "stream",
     "text": [
      "Enter a year: 2017\n"
     ]
    },
    {
     "name": "stdout",
     "output_type": "stream",
     "text": [
      "2017 is neither a leap year nor a century year.\n"
     ]
    }
   ],
   "source": [
    "year = int(input(\"Enter a year:\"))\n",
    "\n",
    "\n",
    "if year % 4 == 0:\n",
    "    if year % 100 == 0:\n",
    "        if year % 400 == 0:\n",
    "            print(year, \"is a leap year and a century year.\")\n",
    "        else:\n",
    "            print(year, \"is a century year but not a leapp year.\")\n",
    "    else:\n",
    "        print(year, \"is a leap year but not a century year.\")\n",
    "else:\n",
    "    print(year, \"is neither a leap year nor a century year.\")"
   ]
  },
  {
   "cell_type": "code",
   "execution_count": 14,
   "id": "7dc5efd0-1091-4441-b6c6-ffcc6b12b6ed",
   "metadata": {},
   "outputs": [
    {
     "name": "stdin",
     "output_type": "stream",
     "text": [
      "Enter a number: 34\n"
     ]
    },
    {
     "name": "stdout",
     "output_type": "stream",
     "text": [
      "The number is positive.\n"
     ]
    }
   ],
   "source": [
    "num = float(input(\"Enter a number:\"))\n",
    "\n",
    "\n",
    "if num > 0:\n",
    "    print(\"The number is positive.\")\n",
    "elif num < 0:\n",
    "    print(\"The number is negative:\")\n",
    "else:\n",
    "    print(\"The number is zero.\")"
   ]
  },
  {
   "cell_type": "code",
   "execution_count": 15,
   "id": "c8802ad8-a597-442a-a0b9-41b4b6361e90",
   "metadata": {},
   "outputs": [
    {
     "name": "stdin",
     "output_type": "stream",
     "text": [
      "Enter the person's age: 25\n"
     ]
    },
    {
     "name": "stdout",
     "output_type": "stream",
     "text": [
      "The person is not a teenager.\n"
     ]
    }
   ],
   "source": [
    "age = int(input(\"Enter the person's age:\"))\n",
    "\n",
    "\n",
    "if age >= 13:\n",
    "    if age <=19:\n",
    "        print(\"The person is a teenager.\")\n",
    "    else:\n",
    "        print(\"The person is not a teenager.\")\n",
    "else:\n",
    "    print(\"The person is not a teenager.\")"
   ]
  },
  {
   "cell_type": "code",
   "execution_count": 16,
   "id": "77b01c7c-1bd7-480f-a3b4-73ba7f8abcc4",
   "metadata": {},
   "outputs": [
    {
     "name": "stdin",
     "output_type": "stream",
     "text": [
      "Enter the angle measure in degrees:  60\n"
     ]
    },
    {
     "name": "stdout",
     "output_type": "stream",
     "text": [
      "The angle is acute.\n"
     ]
    }
   ],
   "source": [
    "angle_measure = float(input(\"Enter the angle measure in degrees:\"))\n",
    "\n",
    "\n",
    "if angle_measure < 90:\n",
    "    print(\"The angle is acute.\")\n",
    "elif angle_measure == 90:\n",
    "    print(\"The angle is right angle.\")\n",
    "elif angle_measure > 90 and angle_measure < 180:\n",
    "    print(\"The angle isobtuse,\")\n",
    "else:\n",
    "    print(\"The angle is neither acute, obtuse, norright,\")"
   ]
  },
  {
   "cell_type": "code",
   "execution_count": 17,
   "id": "13b9db31-e41d-49a4-afca-8068a2f293a8",
   "metadata": {},
   "outputs": [
    {
     "name": "stdin",
     "output_type": "stream",
     "text": [
      "Enter a number (1-7) to determine the day of the week: 5\n"
     ]
    },
    {
     "name": "stdout",
     "output_type": "stream",
     "text": [
      "The day of the week for number 5 is thurseday.\n"
     ]
    }
   ],
   "source": [
    "day_number = int(input(\"Enter a number (1-7) to determine the day of the week:\"))\n",
    "\n",
    "\n",
    "if day_number == 1:\n",
    "    day = 'sunday'\n",
    "elif day_number == 2:\n",
    "    day = 'monday'\n",
    "elif day_number == 3:\n",
    "    day = 'tuesday'\n",
    "elif day_number == 4:\n",
    "    day = 'wednessday'\n",
    "elif day_number == 5:\n",
    "    day = 'thurseday'\n",
    "elif day_number == 6:\n",
    "    day = 'friday'\n",
    "elif day_number == 7:\n",
    "    day = 'saturday'\n",
    "else:\n",
    "    day = \"Invalid input. please enter a number between 1 and 7.\"\n",
    "    \n",
    "print(f\"The day of the week for number {day_number} is {day}.\")"
   ]
  },
  {
   "cell_type": "code",
   "execution_count": 18,
   "id": "396420cf-b368-4e19-9392-bf7f60a8aeae",
   "metadata": {},
   "outputs": [
    {
     "name": "stdin",
     "output_type": "stream",
     "text": [
      "Enter a year. 2015\n"
     ]
    },
    {
     "name": "stdout",
     "output_type": "stream",
     "text": [
      "2015 is a not leap year.\n"
     ]
    }
   ],
   "source": [
    "year = int(input(\"Enter a year.\"))\n",
    "\n",
    "if year % 4 == 0:\n",
    "    if year % 100 == 0:\n",
    "        if year % 400 == 0:\n",
    "            is_leap_year = True\n",
    "        else:\n",
    "            is_leap_year = False\n",
    "    else:\n",
    "        is_leap_year = True\n",
    "else:\n",
    "    is_leap_year = False\n",
    "    \n",
    "    \n",
    "if is_leap_year:\n",
    "    print(f\"{year} is a leap year.\")\n",
    "else:\n",
    "    print(f\"{year} is a not leap year.\")"
   ]
  },
  {
   "cell_type": "code",
   "execution_count": 19,
   "id": "26fe884b-42bc-4279-9e96-e5fa65ef092a",
   "metadata": {},
   "outputs": [
    {
     "name": "stdin",
     "output_type": "stream",
     "text": [
      "Enter a number. 67\n"
     ]
    },
    {
     "name": "stdout",
     "output_type": "stream",
     "text": [
      "67 is not a prime number.\n"
     ]
    }
   ],
   "source": [
    "num = int(input(\"Enter a number.\"))\n",
    "\n",
    "if num < 2:\n",
    "    is_prime = False\n",
    "else:\n",
    "    is_prime = True\n",
    "    \n",
    "    for i in range(2, int(num**0.5) + 1):\n",
    "        if num % 1 == 0:\n",
    "            is_prime = False\n",
    "            break\n",
    "            \n",
    "if is_prime:\n",
    "    print(f\"{num} is a prime number.\")\n",
    "else:\n",
    "    print(f\"{num} is not a prime number.\")"
   ]
  },
  {
   "cell_type": "code",
   "execution_count": 20,
   "id": "5339d5a8-1a6b-4aad-98b9-35e406d3e081",
   "metadata": {},
   "outputs": [
    {
     "name": "stdin",
     "output_type": "stream",
     "text": [
      "Enter the student's score: 80\n"
     ]
    },
    {
     "name": "stdout",
     "output_type": "stream",
     "text": [
      "The sudent's grade is:B\n"
     ]
    }
   ],
   "source": [
    "score = float(input(\"Enter the student's score:\"))\n",
    "\n",
    "if score >= 90:\n",
    "    grade = 'A'\n",
    "elif score >= 80:\n",
    "    grade = 'B'\n",
    "elif score >= 70:\n",
    "    grade = 'C'\n",
    "elif score >= 60:\n",
    "    grade = 'D'\n",
    "else:\n",
    "    grade = 'F'\n",
    "    \n",
    "print(f\"The sudent's grade is:{grade}\")"
   ]
  },
  {
   "cell_type": "code",
   "execution_count": 21,
   "id": "55319c52-64e3-42e4-b91b-b7677c3025fa",
   "metadata": {},
   "outputs": [
    {
     "name": "stdin",
     "output_type": "stream",
     "text": [
      "Enter the first angle. 45\n",
      "Enter the second angle. 45\n",
      "Enter the third angle. 90\n"
     ]
    },
    {
     "name": "stdout",
     "output_type": "stream",
     "text": [
      "The triangle is a Right-angled triangle.\n"
     ]
    }
   ],
   "source": [
    "angle1 = float(input(\"Enter the first angle.\"))\n",
    "angle2 = float(input(\"Enter the second angle.\"))\n",
    "angle3 = float(input(\"Enter the third angle.\"))\n",
    "\n",
    "\n",
    "angle_sum = angle1 + angle2 + angle3\n",
    "\n",
    "if angle_sum != 180:\n",
    "    triangle_type = \"Invalid triangle (sum of angle)\"\n",
    "elif angle1 == 90 or angle2 == 90 or angle3 == 90:\n",
    "    triangle_type = \"Right-angled triangle\"\n",
    "elif angle1 > 90 or angle2 > 90 or angle3 > 90:\n",
    "    triangle_type = \"Obtuse-angled triangle\"\n",
    "else:\n",
    "    triangle_type = \"Acute-angled triangle\"\n",
    "    \n",
    "print(f\"The triangle is a {triangle_type}.\")\n",
    "    "
   ]
  },
  {
   "cell_type": "code",
   "execution_count": 22,
   "id": "3bbd090d-34a6-4e5b-b2c7-a725450727d4",
   "metadata": {},
   "outputs": [
    {
     "name": "stdin",
     "output_type": "stream",
     "text": [
      "Enter your height. 5.4\n",
      "Enter your weight.  59\n"
     ]
    },
    {
     "name": "stdout",
     "output_type": "stream",
     "text": [
      "Your BMI is  Underweight\n"
     ]
    }
   ],
   "source": [
    "height = float(input(\"Enter your height.\"))\n",
    "weight = float(input(\"Enter your weight.\"))\n",
    "\n",
    "bmi = weight / (height ** 2)\n",
    "\n",
    "if bmi < 18.5:\n",
    "    category = 'Underweight'\n",
    "elif 18.5 <= bmi < 24.9:\n",
    "    category = 'Noermal weight'\n",
    "elif 25 <= bmi < 29.9:\n",
    "    category = 'Overweight'\n",
    "else:\n",
    "    category = 'Obese'\n",
    "    \n",
    "print(f\"Your BMI is \", category) "
   ]
  },
  {
   "cell_type": "code",
   "execution_count": 23,
   "id": "7399e54f-56ff-4b96-a9f6-aa08594d33e7",
   "metadata": {},
   "outputs": [
    {
     "name": "stdin",
     "output_type": "stream",
     "text": [
      "enter a number.  45\n"
     ]
    },
    {
     "name": "stdout",
     "output_type": "stream",
     "text": [
      "number is possitive.\n"
     ]
    }
   ],
   "source": [
    "number = int(input(\"enter a number.\"))\n",
    "\n",
    "if number > 0:\n",
    "    print(f\"number is possitive.\")\n",
    "elif number == 0:\n",
    "    print(f\"zero\")\n",
    "else:\n",
    "    print(f\"number is negative.\")"
   ]
  },
  {
   "cell_type": "code",
   "execution_count": 24,
   "id": "c3753a61-0244-4d53-b825-bfe754b81a3c",
   "metadata": {},
   "outputs": [
    {
     "name": "stdin",
     "output_type": "stream",
     "text": [
      "enter a character.  r\n"
     ]
    },
    {
     "name": "stdout",
     "output_type": "stream",
     "text": [
      "a is a lowercase letter.\n"
     ]
    }
   ],
   "source": [
    "character = input(\"enter a character.\")\n",
    "\n",
    "if char.isupper():\n",
    "    print(f\"{char} is an uppercase lwtter.\")\n",
    "elif char.islower():\n",
    "    print(f\"{char} is a lowercase letter.\")\n",
    "else:\n",
    "    print(f\"{char} is a special letter.\")\n",
    "    "
   ]
  },
  {
   "cell_type": "code",
   "execution_count": 25,
   "id": "7b7d5b0d-c054-43a9-bc4e-48be8405a7b2",
   "metadata": {},
   "outputs": [
    {
     "name": "stdin",
     "output_type": "stream",
     "text": [
      "enter the purchase amount: 550\n"
     ]
    },
    {
     "name": "stdout",
     "output_type": "stream",
     "text": [
      "Original price: $ 550.00\n",
      "Discount Rate: 10.0%\n",
      "Discounted Price: $0.00\n"
     ]
    }
   ],
   "source": [
    "purchase_amount = float(input(\"enter the purchase amount:\"))\n",
    "\n",
    "\n",
    "discount_rate = 0.0\n",
    "discounted_price = 0.0\n",
    "\n",
    "if purchase_amount >= 100:\n",
    "    discount_rate = 0.1\n",
    "elif purchase_amount >= 50:\n",
    "    discount_rate = 0.05\n",
    "else:\n",
    "    purchase_amount >= 20\n",
    "    discount_rate = 0.02\n",
    "    \n",
    "dicounted_price = purchase_amount - (purchase_amount * discount_rate)\n",
    "\n",
    "\n",
    "print(f\"Original price: ${purchase_amount: .2f}\")\n",
    "print(f\"Discount Rate: {discount_rate * 100}%\")\n",
    "print(f\"Discounted Price: ${discounted_price:.2f}\")\n",
    "                              "
   ]
  },
  {
   "cell_type": "code",
   "execution_count": 26,
   "id": "4857686e-dc28-4121-ac6b-8acf45784d7c",
   "metadata": {},
   "outputs": [
    {
     "name": "stdin",
     "output_type": "stream",
     "text": [
      "Enter the electricity consumption in kwh: 1200\n"
     ]
    },
    {
     "name": "stdout",
     "output_type": "stream",
     "text": [
      "Electricity Consumption: 1200.0 kwh\n",
      "Rate Per Kwh: $0.25\n",
      "Total Bill: $270.00\n"
     ]
    }
   ],
   "source": [
    "consumption = float(input(\"Enter the electricity consumption in kwh:\"))\n",
    "\n",
    "\n",
    "bill = 0\n",
    "rate_per_kwh = 0\n",
    "\n",
    "if consumption <=100:\n",
    "    rate-per_kwh == 0.10\n",
    "    bill = consumption * rate_per_kwh\n",
    "elif consumption <= 200:\n",
    "    rate_per_kwh == 0.15\n",
    "    bill = 100 * 0.10 + (consumption - 100) *rate_per_kwh\n",
    "elif consumption <= 300:\n",
    "    rate_per_kwh == 0.20\n",
    "    bill = 100 * 0.10 + 100 * 0.15 + (consumption - 200) * rate_per_kwh\n",
    "else:\n",
    "    rate_per_kwh = 0.25\n",
    "    bill = 100 * 0.10 + 100 * 0.15 + 100 * 0.20 + (consumption - 300) * rate_per_kwh\n",
    "    \n",
    "    \n",
    "print(f\"Electricity Consumption: {consumption} kwh\")\n",
    "print(f\"Rate Per Kwh: ${rate_per_kwh:.2f}\")\n",
    "print(f\"Total Bill: ${bill:.2f}\")"
   ]
  },
  {
   "cell_type": "code",
   "execution_count": 27,
   "id": "9f778322-5727-44af-8e99-a42cbb783e57",
   "metadata": {},
   "outputs": [
    {
     "name": "stdin",
     "output_type": "stream",
     "text": [
      "enter the 1st angle: 45\n",
      "enter the 2nd angle: 60\n",
      "enter the 3rd angle: 45\n",
      "enter the 4th angle: 60\n",
      "enter the length of 1st side: 4\n",
      "enter the length of 2nd side: 4\n",
      "enter the length of 3rd side: 5\n",
      "enter the length of 4th side: 5\n"
     ]
    },
    {
     "name": "stdout",
     "output_type": "stream",
     "text": [
      "It's a generalquadrilateral.\n"
     ]
    }
   ],
   "source": [
    "angle1 = float(input(\"enter the 1st angle:\"))\n",
    "angle2 = float(input(\"enter the 2nd angle:\"))\n",
    "angle3 = float(input(\"enter the 3rd angle:\"))\n",
    "angle4 = float(input(\"enter the 4th angle:\"))\n",
    "\n",
    "\n",
    "side1 = float(input(\"enter the length of 1st side:\"))\n",
    "side2 = float(input(\"enter the length of 2nd side:\"))\n",
    "side3 = float(input(\"enter the length of 3rd side:\"))\n",
    "side4 = float(input(\"enter the length of 4th side:\"))\n",
    "\n",
    "\n",
    "if angle1 == angle2 == angle3 == angle4 == 90:\n",
    "    print(\"It's a square.\")\n",
    "elif angle1 == angle2 == angle3 == angle4:\n",
    "    print(\"It's a rectangle.\")\n",
    "elif side1 == side2 == side3 == side4:\n",
    "    print(\"It's a rhombus.\")\n",
    "elif (angle1 + angle2 + angle3 + angle4 == 360) and (side1 == side2 == side3 == side4):\n",
    "    print(\"It's a parallelogram.\")\n",
    "elif (angle1 + angle2 + angle3 + angle4 == 360) and ((side1 == side3 and side2 == side4) or (side1 == side2 and side3 == side4)):\n",
    "    print(\"It's a kite.\")\n",
    "else:\n",
    "    print(\"It's a generalquadrilateral.\")"
   ]
  },
  {
   "cell_type": "code",
   "execution_count": 28,
   "id": "5acdefdb-2e76-4ef1-a35a-4d4c8b9e39ba",
   "metadata": {},
   "outputs": [
    {
     "name": "stdin",
     "output_type": "stream",
     "text": [
      "enter a month. july\n"
     ]
    },
    {
     "name": "stdout",
     "output_type": "stream",
     "text": [
      "The season for July is summer.\n"
     ]
    }
   ],
   "source": [
    "month = input(\"enter a month.\")\n",
    "\n",
    "\n",
    "month = month.lower()\n",
    "\n",
    "if month in [\"december\", \"january\", \"february\"]:\n",
    "    season = \"winter\"\n",
    "elif month in [\"march\", \"april\", \"may\"]:\n",
    "               season = \"spring\"\n",
    "elif month in [\"june\", \"july\", \"august\"]:\n",
    "               season = \"summer\"\n",
    "elif month in [\"september\", \"october\", \"november\"]:\n",
    "               season = \"autumn\"\n",
    "else:\n",
    "               season = \"Invalid month\"\n",
    "               \n",
    "               \n",
    "print(f\"The season for {month.capitalize()} is {season}.\")"
   ]
  },
  {
   "cell_type": "code",
   "execution_count": 29,
   "id": "2cb9527d-243e-4fa2-8db8-654dd49b2ac6",
   "metadata": {},
   "outputs": [
    {
     "name": "stdin",
     "output_type": "stream",
     "text": [
      "enter a year: 2021\n",
      "enter a month: december\n"
     ]
    },
    {
     "name": "stdout",
     "output_type": "stream",
     "text": [
      "2021 is a NOn-Leap year.\n",
      " month december has Invalid month.\n"
     ]
    }
   ],
   "source": [
    "year = int(input(\"enter a year:\"))\n",
    "month = input(\"enter a month:\")\n",
    "\n",
    "\n",
    "year_type = \" \"\n",
    "month_type = \" \"\n",
    "\n",
    "\n",
    "if (year % 4 == 0 and year % 100 != 0) or (year % 400 == 0):\n",
    "    year_type = \"Leap year\"\n",
    "else:\n",
    "    year_type =\"NOn-Leap year\"\n",
    "    \n",
    "    \n",
    "if month in [1, 3, 5, 7, 8, 10, 12]:\n",
    "    month_type = \"31 days\"\n",
    "elif month in [4, 6, 9, 11]:\n",
    "    month_type = \"30 days\"\n",
    "elif month == 2:\n",
    "    if year_type == \"Leap year\":\n",
    "        month\n",
    "        _type == \"29 days\"\n",
    "    else:\n",
    "        month_type == \"28 days\"\n",
    "else:\n",
    "    month_type = \"Invalid month\"\n",
    "    \n",
    "    \n",
    "print(f\"{year} is a {year_type}.\")\n",
    "print(f\" month {month} has {month_type}.\")"
   ]
  },
  {
   "cell_type": "code",
   "execution_count": 30,
   "id": "044e65dc-f222-443f-909d-22ccd9875cd5",
   "metadata": {},
   "outputs": [
    {
     "name": "stdin",
     "output_type": "stream",
     "text": [
      "enter a number. 46\n"
     ]
    },
    {
     "name": "stdout",
     "output_type": "stream",
     "text": [
      "46 is positive.\n"
     ]
    }
   ],
   "source": [
    "number = int(input(\"enter a number.\"))\n",
    "\n",
    "if number >= 0:\n",
    "    print(f\"{number} is positive.\")\n",
    "elif number == 0:\n",
    "    print(f\"zero\")\n",
    "else:\n",
    "    print(f\"{number} is negative.\")"
   ]
  },
  {
   "cell_type": "code",
   "execution_count": 31,
   "id": "304e5499-e58b-499e-9c27-2ca87b975a04",
   "metadata": {},
   "outputs": [
    {
     "name": "stdin",
     "output_type": "stream",
     "text": [
      "enter the person's age. 25\n"
     ]
    },
    {
     "name": "stdout",
     "output_type": "stream",
     "text": [
      "The person is eligible to vote,\n"
     ]
    }
   ],
   "source": [
    "age = int(input(\"enter the person's age.\"))\n",
    "\n",
    "if age >=18:\n",
    "    print(f\"The person is eligible to vote,\")\n",
    "else:\n",
    "    print(f\"The person is not eligible to vote.\")"
   ]
  },
  {
   "cell_type": "code",
   "execution_count": 32,
   "id": "108faaf8-ad08-44cc-aef9-4059e961bab0",
   "metadata": {},
   "outputs": [
    {
     "name": "stdin",
     "output_type": "stream",
     "text": [
      "enter the 1st number. 9\n",
      "enter the 2nd number. 15\n"
     ]
    },
    {
     "name": "stdout",
     "output_type": "stream",
     "text": [
      "The maximum number is , 15.\n"
     ]
    }
   ],
   "source": [
    "num1 = int(input(\"enter the 1st number.\"))\n",
    "num2 = int(input(\"enter the 2nd number.\"))\n",
    "\n",
    "if num1 >= num2:\n",
    "    max_num = num1\n",
    "elif num2 >= num1:\n",
    "    max_num = num2\n",
    "else:\n",
    "    max_num = 0\n",
    "    \n",
    "print(f\"The maximum number is , {max_num}.\")"
   ]
  },
  {
   "cell_type": "code",
   "execution_count": 33,
   "id": "1a40c191-3fba-46df-8089-0938db4a033a",
   "metadata": {},
   "outputs": [
    {
     "name": "stdin",
     "output_type": "stream",
     "text": [
      "enter the student's score. 75\n"
     ]
    },
    {
     "name": "stdout",
     "output_type": "stream",
     "text": [
      "The student's score is C.\n"
     ]
    }
   ],
   "source": [
    "score = int(input(\"enter the student's score.\"))\n",
    "\n",
    "\n",
    "if score >= 90:\n",
    "    grade = \"A\"\n",
    "elif score >= 80:\n",
    "    grade = \"B\"\n",
    "elif score >= 70:\n",
    "    grade = \"C\"\n",
    "elif score >= 60:\n",
    "    grade = \"D\"\n",
    "else:\n",
    "    grade = \"F\"\n",
    "    \n",
    "    \n",
    "print(f\"The student's score is {grade}.\")"
   ]
  },
  {
   "cell_type": "code",
   "execution_count": 34,
   "id": "6b257941-30cf-4fd3-8356-1199f0d9548b",
   "metadata": {},
   "outputs": [
    {
     "name": "stdin",
     "output_type": "stream",
     "text": [
      "enter a year. 2018\n"
     ]
    },
    {
     "name": "stdout",
     "output_type": "stream",
     "text": [
      "2018 is not a leap year.\n"
     ]
    }
   ],
   "source": [
    "year = int(input(\"enter a year.\"))\n",
    "\n",
    "if year % 4 == 0 and year % 100 != 0:\n",
    "    print(f\"{year} is a leap year.\")\n",
    "else:\n",
    "    print(f\"{year} is not a leap year.\")"
   ]
  },
  {
   "cell_type": "code",
   "execution_count": 35,
   "id": "32bc51c8-6225-4128-b869-b6ac536885d8",
   "metadata": {},
   "outputs": [
    {
     "name": "stdin",
     "output_type": "stream",
     "text": [
      "enter the 1st length of a triangle. 60\n",
      "enter the 2nd length of a triangle. 90\n",
      "enter the 3rd length of a triangle. 30\n"
     ]
    },
    {
     "name": "stdout",
     "output_type": "stream",
     "text": [
      "The triangle type is scalene.\n"
     ]
    }
   ],
   "source": [
    "side1 = float(input(\"enter the 1st length of a triangle.\"))\n",
    "side2 = float(input(\"enter the 2nd length of a triangle.\"))\n",
    "side3 = float(input(\"enter the 3rd length of a triangle.\"))\n",
    "\n",
    "if side1 == side2 == side3:\n",
    "    triangle_type = \"equilateral\"\n",
    "elif side1 == side2 or side1 == side3 or side2 == side3:\n",
    "    triangle_type = \"isosceles\"\n",
    "else:\n",
    "    triangle_type = \"scalene\"\n",
    "    \n",
    "    \n",
    "print(f\"The triangle type is {triangle_type}.\")\n"
   ]
  },
  {
   "cell_type": "code",
   "execution_count": 36,
   "id": "893139d8-5244-455b-9209-4cfadeb3eedb",
   "metadata": {},
   "outputs": [
    {
     "name": "stdin",
     "output_type": "stream",
     "text": [
      "enter the 1st number. 11\n",
      "enter the 2nd number. 34\n",
      "enter the 3rd number. 67\n"
     ]
    },
    {
     "name": "stdout",
     "output_type": "stream",
     "text": [
      " The largest number among 11, 34, and 67 is  67.\n"
     ]
    }
   ],
   "source": [
    "num1 = int(input(\"enter the 1st number.\"))\n",
    "num2 = int(input(\"enter the 2nd number.\"))\n",
    "num3 = int(input(\"enter the 3rd number.\"))\n",
    "\n",
    "\n",
    "if num1 >= num2:\n",
    "    if num1 >= num3:\n",
    "        largest = num1\n",
    "    else:\n",
    "        largest = num3\n",
    "else:\n",
    "    if num2 >= num1:\n",
    "        if num2 >= num3:\n",
    "            largest = num2\n",
    "        else:\n",
    "            largest = num3\n",
    "            \n",
    "            \n",
    "print(f\" The largest number among {num1}, {num2}, and {num3} is  {largest}.\")"
   ]
  },
  {
   "cell_type": "code",
   "execution_count": 37,
   "id": "e35102f8-878c-4fc6-adeb-8c1047f1b8df",
   "metadata": {},
   "outputs": [
    {
     "name": "stdin",
     "output_type": "stream",
     "text": [
      "enter a character. b\n"
     ]
    },
    {
     "name": "stdout",
     "output_type": "stream",
     "text": [
      "b is a consonant.\n"
     ]
    }
   ],
   "source": [
    "char = input(\"enter a character.\")\n",
    "\n",
    "char = char.lower()\n",
    "\n",
    "if char.isalpha():\n",
    "    if char in 'aeiou':\n",
    "        print(f\"{char} is a vowel.\")\n",
    "    else:\n",
    "        print(f\"{char} is a consonant.\")\n",
    "else:\n",
    "    print(f\"please enter a valid alphabetic character.\")"
   ]
  },
  {
   "cell_type": "code",
   "execution_count": 42,
   "id": "4c71d808-1928-478b-b45e-b9c8533c2a48",
   "metadata": {},
   "outputs": [
    {
     "name": "stdout",
     "output_type": "stream",
     "text": [
      "Total cost after 10 % discount: $135.0:2f\n"
     ]
    }
   ],
   "source": [
    "def calculate_total_cost(cart, discount_percentage):\n",
    "    total_cost = sum(cart)\n",
    "    discount_amount = (discount_percentage / 100) * total_cost\n",
    "    discounted_total = total_cost - discount_amount\n",
    "    return discounted_total\n",
    "\n",
    "cart_items = [10, 20, 30, 40, 50]\n",
    "discount_percentage = 10\n",
    "\n",
    "total_cost = calculate_total_cost(cart_items, discount_percentage)\n",
    "print(f\"Total cost after {discount_percentage} % discount: ${total_cost}:2f\")"
   ]
  },
  {
   "cell_type": "code",
   "execution_count": 43,
   "id": "91f4acb4-2f38-47f5-8b43-add515c816c8",
   "metadata": {},
   "outputs": [
    {
     "name": "stdin",
     "output_type": "stream",
     "text": [
      "enter a number.  34\n"
     ]
    },
    {
     "name": "stdout",
     "output_type": "stream",
     "text": [
      "34 is even.\n"
     ]
    }
   ],
   "source": [
    "number = int(input(\"enter a number.\"))\n",
    "\n",
    "\n",
    "if number % 2 == 0:\n",
    "    print(f\"{number} is even.\")\n",
    "elif number % 2 != 0:\n",
    "    print(f\"{number} is odd.\")\n",
    "else:\n",
    "    print(f\"{number} is neither even nor odd:\")"
   ]
  },
  {
   "cell_type": "code",
   "execution_count": 3,
   "id": "1c0dcc16-af96-452f-aa60-076dd73697f7",
   "metadata": {},
   "outputs": [
    {
     "name": "stdin",
     "output_type": "stream",
     "text": [
      "enter the coefficient a: 2\n",
      "enter the coefficient b: 3\n",
      "enter the coefficient c: 4\n"
     ]
    },
    {
     "name": "stdout",
     "output_type": "stream",
     "text": [
      "The roots are complex: -0.75 + 1.1989578808281798i and -0.75 - 1.1989578808281798i\n"
     ]
    }
   ],
   "source": [
    "import math\n",
    "\n",
    "a = float(input(\"enter the coefficient a:\"))\n",
    "b = float(input(\"enter the coefficient b:\"))\n",
    "c = float(input(\"enter the coefficient c:\"))\n",
    "\n",
    "discriminant = b**2 - 4*a*c\n",
    "\n",
    "if discriminant > 0:\n",
    "    root1 = (-b + math.sqrt(discriminant)) / (2*a)\n",
    "    root2 = (-b - math.sqrt(discriminant)) / (2*a)\n",
    "    print(f\"The roots are real and distinct: {root1} and {root2}\")\n",
    "elif discriminant == 0:\n",
    "    root = -b / (2*a)\n",
    "    print(f\"There is one real root:{root}\")\n",
    "else:\n",
    "    realpart = -b / (2*a)\n",
    "    imaginarypart = math.sqrt(-discriminant) / (2*a)\n",
    "    \n",
    "print(f\"The roots are complex: {realpart} + {imaginarypart}i and {realpart} - {imaginarypart}i\")"
   ]
  },
  {
   "cell_type": "code",
   "execution_count": 4,
   "id": "1ff252d6-63bb-4e6e-9482-a98fe7643b96",
   "metadata": {},
   "outputs": [
    {
     "name": "stdin",
     "output_type": "stream",
     "text": [
      "enter the day number: 7\n"
     ]
    },
    {
     "name": "stdout",
     "output_type": "stream",
     "text": [
      "Day 7 is saturday.\n"
     ]
    }
   ],
   "source": [
    "day_number = int(input(\"enter the day number:\"))\n",
    "days_of_week = [\"sunday\", \"monday\", \"tuesday\", \"wednesday\", \"thursday\", \"friday\", \"saturday\"]\n",
    "\n",
    "\n",
    "if 1 <= day_number <=7:\n",
    "    day_name = days_of_week[day_number -1]\n",
    "    print(f\"Day {day_number} is {day_name}.\")\n",
    "else:\n",
    "    print(f\"Invalid input. please enter a number between 1 and 7.\")"
   ]
  },
  {
   "cell_type": "code",
   "execution_count": 5,
   "id": "b7d3e971-35b0-44b6-baed-2ed805a884b4",
   "metadata": {},
   "outputs": [
    {
     "name": "stdin",
     "output_type": "stream",
     "text": [
      "enter a non-negative integer:  2\n"
     ]
    },
    {
     "name": "stdout",
     "output_type": "stream",
     "text": [
      "The factorial of {num} is {result}.\n"
     ]
    }
   ],
   "source": [
    "def factorial(n):\n",
    "    if n == 0:\n",
    "        return 1\n",
    "    else:\n",
    "        return n * factorial(n - 1)\n",
    "    \n",
    "num = int(input(\"enter a non-negative integer:\"))\n",
    "\n",
    "\n",
    "if num <0:\n",
    "    print(\"Factorial is not defined for negative numbers.\")\n",
    "else:\n",
    "    result = factorial(num)\n",
    "    print(\"The factorial of {num} is {result}.\")"
   ]
  },
  {
   "cell_type": "code",
   "execution_count": 7,
   "id": "c1a75d92-d1eb-48c4-9312-f67d29134fa7",
   "metadata": {},
   "outputs": [
    {
     "name": "stdin",
     "output_type": "stream",
     "text": [
      "enter the 1st number.  4\n",
      "enter the 2nd number. 6\n",
      "enter the 3rd number. 8\n"
     ]
    },
    {
     "name": "stdout",
     "output_type": "stream",
     "text": [
      "The largest number among 4, 6, and 8 is 8.\n"
     ]
    }
   ],
   "source": [
    "num1 = int(input(\"enter the 1st number.\"))\n",
    "num2 = int(input(\"enter the 2nd number.\"))\n",
    "num3 = int(input(\"enter the 3rd number.\"))\n",
    "\n",
    "\n",
    "if num1 >= num2 and num1 >=num3:\n",
    "    largest = num1\n",
    "elif num2 >= num1 and num2 >= num3:\n",
    "    largest = nuum2\n",
    "else:\n",
    "    largest = num3\n",
    "    \n",
    "    \n",
    "print(f\"The largest number among {num1}, {num2}, and {num3} is {largest}.\")\n",
    "                 "
   ]
  },
  {
   "cell_type": "code",
   "execution_count": 1,
   "id": "1e9b3e42-e994-4d7d-9461-7bbde69024ba",
   "metadata": {},
   "outputs": [
    {
     "name": "stdout",
     "output_type": "stream",
     "text": [
      "\n",
      "ATM Menu:\n",
      "1. Display Balance:\n",
      "2. Deposit Money\n",
      "3. Withdraw Money\n",
      "4.Exit\n"
     ]
    },
    {
     "name": "stdin",
     "output_type": "stream",
     "text": [
      "enter your choice (1/2/3/4):  2\n"
     ]
    },
    {
     "name": "stdout",
     "output_type": "stream",
     "text": [
      "Invalid choice. please select a valid option (1/2/3/4):\n",
      "\n",
      "ATM Menu:\n",
      "1. Display Balance:\n",
      "2. Deposit Money\n",
      "3. Withdraw Money\n",
      "4.Exit\n"
     ]
    },
    {
     "name": "stdin",
     "output_type": "stream",
     "text": [
      "enter your choice (1/2/3/4): 3\n",
      "enter the amount to withdraw: $ 500\n"
     ]
    },
    {
     "name": "stdout",
     "output_type": "stream",
     "text": [
      "$500.00 has been withdraw from your account.\n",
      " your account balance is: $500.00\n",
      "\n",
      "ATM Menu:\n",
      "1. Display Balance:\n",
      "2. Deposit Money\n",
      "3. Withdraw Money\n",
      "4.Exit\n"
     ]
    },
    {
     "name": "stdin",
     "output_type": "stream",
     "text": [
      "enter your choice (1/2/3/4):  1\n"
     ]
    },
    {
     "name": "stdout",
     "output_type": "stream",
     "text": [
      "Invalid choice. please select a valid option (1/2/3/4):\n",
      "\n",
      "ATM Menu:\n",
      "1. Display Balance:\n",
      "2. Deposit Money\n",
      "3. Withdraw Money\n",
      "4.Exit\n"
     ]
    },
    {
     "name": "stdin",
     "output_type": "stream",
     "text": [
      "enter your choice (1/2/3/4): 4\n"
     ]
    },
    {
     "name": "stdout",
     "output_type": "stream",
     "text": [
      "Thank you for using the ATM. Goodbye!\n"
     ]
    }
   ],
   "source": [
    "balance = 1000\n",
    "\n",
    "def display_balance():\n",
    "    print(f\" your account balance is: ${balance:.2f}\")\n",
    "    \n",
    "    \n",
    "def deposit():\n",
    "    global balance\n",
    "    amount = float(input(\"enter the amount to deposit: $\"))\n",
    "    balance += amount\n",
    "    print(f\"${amount:.2f} has beendeposited into your account.\")\n",
    "    display_balance()\n",
    "    \n",
    "    \n",
    "def withdraw():\n",
    "    global balance\n",
    "    amount = float(input(\"enter the amount to withdraw: $\"))\n",
    "    if amount <= balance:\n",
    "        balance -= amount\n",
    "        print(f\"${amount:.2f} has been withdraw from your account.\")\n",
    "        display_balance()\n",
    "    else:\n",
    "        print(\"Insufficient funds.\")\n",
    "        \n",
    "while True:\n",
    "    print(\"\\nATM Menu:\")\n",
    "    print(\"1. Display Balance:\")\n",
    "    print(\"2. Deposit Money\")\n",
    "    print(\"3. Withdraw Money\")\n",
    "    print(\"4.Exit\")\n",
    "    \n",
    "    \n",
    "    choice = input(\"enter your choice (1/2/3/4):\")\n",
    "    \n",
    "    \n",
    "    if choice == '1':\n",
    "        display_balance()\n",
    "    elif choice == '2':\n",
    "        deposit()\n",
    "    elif choice == '3':\n",
    "        withdraw()\n",
    "    elif choice == '4':\n",
    "        print(\"Thank you for using the ATM. Goodbye!\")\n",
    "        break\n",
    "    else:\n",
    "        print(\"Invalid choice. please select a valid option (1/2/3/4):\")"
   ]
  },
  {
   "cell_type": "code",
   "execution_count": 2,
   "id": "7d9fd8ed-8c3d-4c7a-bdb4-70f49feb47d2",
   "metadata": {},
   "outputs": [
    {
     "name": "stdin",
     "output_type": "stream",
     "text": [
      "enter a string  cricket\n"
     ]
    },
    {
     "name": "stdout",
     "output_type": "stream",
     "text": [
      " cricket is not a polindrome.\n"
     ]
    }
   ],
   "source": [
    "def is_polindrome(string):\n",
    "    cleaned_string = ' '.join(string.split()).lower()\n",
    "    return cleaned_string == cleaned_string[::-1]\n",
    "\n",
    "user_input = input(\"enter a string\")\n",
    "\n",
    "if is_polindrome(user_input):\n",
    "    print(f\"{user_input} is a polindrome.\")\n",
    "else:\n",
    "    print(f\"{user_input} is not a polindrome.\")\n"
   ]
  },
  {
   "cell_type": "code",
   "execution_count": 4,
   "id": "d22d565f-36f0-40bb-a2c9-850d65460ba9",
   "metadata": {},
   "outputs": [
    {
     "name": "stdin",
     "output_type": "stream",
     "text": [
      "enter a list of numbers separated by commas: [2, 3, 5, 8, 4, 5, 9]\n"
     ]
    },
    {
     "ename": "TypeError",
     "evalue": "unsupported operand type(s) for +: 'int' and 'str'",
     "output_type": "error",
     "traceback": [
      "\u001b[0;31m---------------------------------------------------------------------------\u001b[0m",
      "\u001b[0;31mTypeError\u001b[0m                                 Traceback (most recent call last)",
      "Cell \u001b[0;32mIn[4], line 20\u001b[0m\n\u001b[1;32m     17\u001b[0m input_numbers \u001b[38;5;241m=\u001b[39m \u001b[38;5;28minput\u001b[39m(\u001b[38;5;124m\"\u001b[39m\u001b[38;5;124menter a list of numbers separated by commas:\u001b[39m\u001b[38;5;124m\"\u001b[39m)\n\u001b[1;32m     18\u001b[0m numbers \u001b[38;5;241m=\u001b[39m [(num) \u001b[38;5;28;01mfor\u001b[39;00m num \u001b[38;5;129;01min\u001b[39;00m input_numbers\u001b[38;5;241m.\u001b[39msplit(\u001b[38;5;124m'\u001b[39m\u001b[38;5;124m,\u001b[39m\u001b[38;5;124m'\u001b[39m)]\n\u001b[0;32m---> 20\u001b[0m result \u001b[38;5;241m=\u001b[39m \u001b[43mcalculate_average\u001b[49m\u001b[43m(\u001b[49m\u001b[43mnumbers\u001b[49m\u001b[43m)\u001b[49m\n\u001b[1;32m     21\u001b[0m \u001b[38;5;28;01mif\u001b[39;00m result \u001b[38;5;129;01mis\u001b[39;00m \u001b[38;5;129;01mnot\u001b[39;00m \u001b[38;5;28;01mNone\u001b[39;00m:\n\u001b[1;32m     22\u001b[0m     \u001b[38;5;28mprint\u001b[39m(\u001b[38;5;124mf\u001b[39m\u001b[38;5;124m\"\u001b[39m\u001b[38;5;124mThe average (excluding the smallest and largest values) is: \u001b[39m\u001b[38;5;132;01m{\u001b[39;00mresult\u001b[38;5;132;01m:\u001b[39;00m\u001b[38;5;124m.2f\u001b[39m\u001b[38;5;132;01m}\u001b[39;00m\u001b[38;5;124m\"\u001b[39m)\n",
      "Cell \u001b[0;32mIn[4], line 10\u001b[0m, in \u001b[0;36mcalculate_average\u001b[0;34m(numbers)\u001b[0m\n\u001b[1;32m      7\u001b[0m numbers\u001b[38;5;241m.\u001b[39mremove(\u001b[38;5;28mmin\u001b[39m(numbers))\n\u001b[1;32m      8\u001b[0m numbers\u001b[38;5;241m.\u001b[39mremove(\u001b[38;5;28mmax\u001b[39m(numbers))\n\u001b[0;32m---> 10\u001b[0m total \u001b[38;5;241m=\u001b[39m \u001b[38;5;28;43msum\u001b[39;49m\u001b[43m(\u001b[49m\u001b[43mnumbers\u001b[49m\u001b[43m)\u001b[49m\n\u001b[1;32m     12\u001b[0m average \u001b[38;5;241m=\u001b[39m total \u001b[38;5;241m/\u001b[39m \u001b[38;5;28mlen\u001b[39m(numbers)\n\u001b[1;32m     15\u001b[0m \u001b[38;5;28;01mreturn\u001b[39;00m average\n",
      "\u001b[0;31mTypeError\u001b[0m: unsupported operand type(s) for +: 'int' and 'str'"
     ]
    }
   ],
   "source": [
    "def calculate_average(numbers):\n",
    "    if len(numbers) < 3:\n",
    "        print(\"There are not enough numbers to calculate the average.\")\n",
    "        return\n",
    "    \n",
    "    \n",
    "    numbers.remove(min(numbers))\n",
    "    numbers.remove(max(numbers))\n",
    "    \n",
    "    total = sum(numbers)\n",
    "    \n",
    "    average = total / len(numbers)\n",
    "    \n",
    "    \n",
    "    return average\n",
    "\n",
    "input_numbers = input(\"enter a list of numbers separated by commas:\")\n",
    "numbers = [(num) for num in input_numbers.split(',')]\n",
    "\n",
    "result = calculate_average(numbers)\n",
    "if result is not None:\n",
    "    print(f\"The average (excluding the smallest and largest values) is: {result:.2f}\")"
   ]
  },
  {
   "cell_type": "code",
   "execution_count": 7,
   "id": "dc0b9ebf-6255-407c-97e4-156ba673638f",
   "metadata": {},
   "outputs": [],
   "source": [
    "def celsius_to_fahrenheit(celsius):\n",
    "    fahrenheit = (celsius * 9/5) + 32\n",
    "    return fahrenheit"
   ]
  },
  {
   "cell_type": "code",
   "execution_count": 9,
   "id": "e3ceb4d3-6e5f-4f47-874f-9e21b84a53ad",
   "metadata": {},
   "outputs": [
    {
     "data": {
      "text/plain": [
       "113.0"
      ]
     },
     "execution_count": 9,
     "metadata": {},
     "output_type": "execute_result"
    }
   ],
   "source": [
    "celsius_to_fahrenheit(45)"
   ]
  },
  {
   "cell_type": "code",
   "execution_count": 11,
   "id": "649934c8-2cd3-442c-8187-37eb44666690",
   "metadata": {},
   "outputs": [
    {
     "name": "stdin",
     "output_type": "stream",
     "text": [
      "enter temperature in celsius: 34\n"
     ]
    },
    {
     "name": "stdout",
     "output_type": "stream",
     "text": [
      "34.0 degrees celsius is equal to 93.2 degrees fahrenheit.\n"
     ]
    }
   ],
   "source": [
    "celsius = float(input(\"enter temperature in celsius:\"))\n",
    "\n",
    "\n",
    "fahrenheit = celsius_to_fahrenheit(celsius)\n",
    "print(f\"{celsius} degrees celsius is equal to {fahrenheit} degrees fahrenheit.\")"
   ]
  },
  {
   "cell_type": "code",
   "execution_count": 6,
   "id": "392bfdcd-79de-44b9-9c4e-33daec70da7c",
   "metadata": {},
   "outputs": [
    {
     "name": "stdin",
     "output_type": "stream",
     "text": [
      "Enter your income 350000\n"
     ]
    },
    {
     "name": "stdout",
     "output_type": "stream",
     "text": [
      "Income Tax: 130000.0\n"
     ]
    }
   ],
   "source": [
    "def calculate_income_tax(income, tax_brackets):\n",
    "    tax = 0\n",
    "    remaining_income = income\n",
    "    \n",
    "    for bracket in tax_brackets:\n",
    "        bracket_limit,tax_rate = bracket\n",
    "        if remaining_income <= 0:\n",
    "            break\n",
    "        if remaining_income <= bracket_limit:\n",
    "            tax += remaining_income * tax_rate\n",
    "            break\n",
    "        else:\n",
    "            tax += bracket_limit * tax_rate\n",
    "            remaining_income -= bracket_limit\n",
    "            \n",
    "            \n",
    "    return tax\n",
    "\n",
    "tax_brackets = [(10000, 0.10), (20000, 0.20), (30000, 0.30), (99999999, 0.40)]\n",
    "\n",
    "\n",
    "income = float(input(\"Enter your income\"))\n",
    "\n",
    "\n",
    "income_tax = calculate_income_tax(income, tax_brackets)\n",
    "\n",
    "\n",
    "print(\"Income Tax:\", income_tax)"
   ]
  },
  {
   "cell_type": "code",
   "execution_count": 11,
   "id": "0ef60bd6-bb89-4698-87bf-b03b48c09f1a",
   "metadata": {},
   "outputs": [
    {
     "name": "stdin",
     "output_type": "stream",
     "text": [
      " Naukari@123\n"
     ]
    },
    {
     "ename": "NameError",
     "evalue": "name 'has_lower_case' is not defined",
     "output_type": "error",
     "traceback": [
      "\u001b[0;31m---------------------------------------------------------------------------\u001b[0m",
      "\u001b[0;31mNameError\u001b[0m                                 Traceback (most recent call last)",
      "Cell \u001b[0;32mIn[11], line 15\u001b[0m\n\u001b[1;32m     13\u001b[0m \u001b[38;5;28;01mif\u001b[39;00m (i\u001b[38;5;241m==\u001b[39m\u001b[38;5;124m\"\u001b[39m\u001b[38;5;124m@\u001b[39m\u001b[38;5;124m\"\u001b[39m \u001b[38;5;129;01mor\u001b[39;00m i\u001b[38;5;241m==\u001b[39m\u001b[38;5;124m\"\u001b[39m\u001b[38;5;124m#\u001b[39m\u001b[38;5;124m\"\u001b[39m \u001b[38;5;129;01mor\u001b[39;00m i\u001b[38;5;241m==\u001b[39m\u001b[38;5;124m\"\u001b[39m\u001b[38;5;124m$\u001b[39m\u001b[38;5;124m\"\u001b[39m \u001b[38;5;129;01mor\u001b[39;00m i\u001b[38;5;241m==\u001b[39m\u001b[38;5;124m\"\u001b[39m\u001b[38;5;124m^\u001b[39m\u001b[38;5;124m\"\u001b[39m \u001b[38;5;129;01mor\u001b[39;00m i\u001b[38;5;241m==\u001b[39m\u001b[38;5;124m\"\u001b[39m\u001b[38;5;124m&\u001b[39m\u001b[38;5;124m\"\u001b[39m \u001b[38;5;129;01mor\u001b[39;00m i\u001b[38;5;241m==\u001b[39m\u001b[38;5;124m\"\u001b[39m\u001b[38;5;124m*\u001b[39m\u001b[38;5;124m\"\u001b[39m \u001b[38;5;129;01mor\u001b[39;00m i\u001b[38;5;241m==\u001b[39m\u001b[38;5;124m\"\u001b[39m\u001b[38;5;124m_\u001b[39m\u001b[38;5;124m\"\u001b[39m):\n\u001b[1;32m     14\u001b[0m     has_special_character \u001b[38;5;241m=\u001b[39m \u001b[38;5;28;01mTrue\u001b[39;00m\n\u001b[0;32m---> 15\u001b[0m \u001b[38;5;28;01mif\u001b[39;00m(has_valid_length\u001b[38;5;241m==\u001b[39m\u001b[38;5;28;01mTrue\u001b[39;00m \u001b[38;5;129;01mand\u001b[39;00m \u001b[43mhas_lower_case\u001b[49m\u001b[38;5;241m==\u001b[39m\u001b[38;5;28;01mTrue\u001b[39;00m \u001b[38;5;129;01mand\u001b[39;00m has_upper_case\u001b[38;5;241m==\u001b[39m\u001b[38;5;28;01mTrue\u001b[39;00m \u001b[38;5;129;01mand\u001b[39;00m has_digits\u001b[38;5;241m==\u001b[39m\u001b[38;5;28;01mTrue\u001b[39;00m \u001b[38;5;129;01mand\u001b[39;00m has_special_character\u001b[38;5;241m==\u001b[39m\u001b[38;5;28;01mTrue\u001b[39;00m):\n\u001b[1;32m     16\u001b[0m     \u001b[38;5;28mprint\u001b[39m(\u001b[38;5;124m\"\u001b[39m\u001b[38;5;124mvalid password\u001b[39m\u001b[38;5;124m\"\u001b[39m)\n\u001b[1;32m     17\u001b[0m \u001b[38;5;28;01melse\u001b[39;00m:\n",
      "\u001b[0;31mNameError\u001b[0m: name 'has_lower_case' is not defined"
     ]
    }
   ],
   "source": [
    "password = input()\n",
    "\n",
    "if(len(password)>=8) and (len(password)<=16):\n",
    "    has_valid_length = True\n",
    "    \n",
    "    for i in password:\n",
    "        if i.islower():\n",
    "            has_lower_case = True\n",
    "        if i.isupper():\n",
    "            has_upper_case =True\n",
    "        if i.isdigit():\n",
    "            has_digits =True\n",
    "        if (i==\"@\" or i==\"#\" or i==\"$\" or i==\"^\" or i==\"&\" or i==\"*\" or i==\"_\"):\n",
    "            has_special_character = True\n",
    "        if(has_valid_length==True and has_lower_case==True and has_upper_case==True and has_digits==True and has_special_character==True):\n",
    "            print(\"valid password\")\n",
    "        else:\n",
    "            print(\"invalid password\")"
   ]
  },
  {
   "cell_type": "code",
   "execution_count": 1,
   "id": "3ec5baf8-f146-4994-8dbb-5ab2cc2fe7c0",
   "metadata": {},
   "outputs": [
    {
     "name": "stdout",
     "output_type": "stream",
     "text": [
      "you wake up in a mysterious room.there are two doors in front of you.\n",
      "Do you want to go through the 'left' door or the 'right' door?\n"
     ]
    },
    {
     "name": "stdin",
     "output_type": "stream",
     "text": [
      "Enter your choice: left\n"
     ]
    },
    {
     "name": "stdout",
     "output_type": "stream",
     "text": [
      "You enter a dark cave. there's a fork in the path ahead.\n",
      "Do you want to go 'left' or 'right'?\n"
     ]
    },
    {
     "name": "stdin",
     "output_type": "stream",
     "text": [
      "Enter your choice: right\n"
     ]
    },
    {
     "name": "stdout",
     "output_type": "stream",
     "text": [
      "You encounter a hungry bear. Game over!\n"
     ]
    }
   ],
   "source": [
    "def start_game():\n",
    "    print(\"you wake up in a mysterious room.there are two doors in front of you.\")\n",
    "    print(\"Do you want to go through the 'left' door or the 'right' door?\")\n",
    "    \n",
    "    \n",
    "    choice = input(\"Enter your choice:\").lower()\n",
    "    \n",
    "    if choice == \"left\":\n",
    "        left_door_scenario()\n",
    "    elif choice == \"right\":\n",
    "        right_door_scenario()\n",
    "    else:\n",
    "        print(\"Invalid choice. Try again.\")\n",
    "        start_game()\n",
    "        \n",
    "def left_door_scenario():\n",
    "    print(\"You enter a dark cave. there's a fork in the path ahead.\")\n",
    "    print(\"Do you want to go 'left' or 'right'?\")\n",
    "    \n",
    "    choice = input(\"Enter your choice:\").lower()\n",
    "    \n",
    "    \n",
    "    if choice == \"left\":\n",
    "        print(\"You find a treasure chest! you win!\")\n",
    "    elif choice == \"right\":\n",
    "        print(\"You encounter a hungry bear. Game over!\")\n",
    "    else:\n",
    "        print(\"Invalid choice. Try again.\")\n",
    "        left_door_scenareo()\n",
    "        \n",
    "def right_door_scenario():\n",
    "    print(\"You step into a beautiful garden.there's is a well in the center.\")\n",
    "    print(\"Do you want to 'drink' from the well or 'explore' the garden?\")\n",
    "    \n",
    "    choice = input(\"Enter your choice:\").lower()\n",
    "    \n",
    "    if choice == \"drink\":\n",
    "        print(\"The water from the well is refreshing. you win!\")\n",
    "    elif choice == \"explore\":\n",
    "        print(\"You discover a hidden pathway that leads to a treasure chest! you win!\")\n",
    "    else:\n",
    "        print(\"Invalid choice. Try again.\")\n",
    "        right_door_scenario()\n",
    "        \n",
    "        \n",
    "start_game()\n",
    "        "
   ]
  },
  {
   "cell_type": "code",
   "execution_count": 2,
   "id": "4ecfa326-d18a-4ef4-b54f-f879433a43c2",
   "metadata": {},
   "outputs": [
    {
     "name": "stdin",
     "output_type": "stream",
     "text": [
      "Enter the coefficient 'a':  1\n",
      "Enter the coefficient 'b': 4\n"
     ]
    },
    {
     "name": "stdout",
     "output_type": "stream",
     "text": [
      "The solution is x = -4.0\n"
     ]
    }
   ],
   "source": [
    "def solve_linear_equation(a, b):\n",
    "    if a == 0:\n",
    "        if b == 0:\n",
    "            return \"Infinite solutions (any value of x is valid)\"\n",
    "        else:\n",
    "            return \"No solution (contradiction)\"\n",
    "    else:\n",
    "        x = -b / a\n",
    "        return f\"The solution is x = {x}\"\n",
    "    \n",
    "try:\n",
    "    a = float(input(\"Enter the coefficient 'a':\"))\n",
    "    b = float(input(\"Enter the coefficient 'b':\")) \n",
    "    \n",
    "    \n",
    "    result = solve_linear_equation(a, b)\n",
    "    print(result)\n",
    "except ValueError:\n",
    "    print(\"Invalid input. Please enter numeric coefficients 'a' and 'b'.\")"
   ]
  },
  {
   "cell_type": "code",
   "execution_count": 6,
   "id": "07e66bb7-b231-48ff-9912-13fd3dae6ef7",
   "metadata": {},
   "outputs": [
    {
     "name": "stdout",
     "output_type": "stream",
     "text": [
      " what is the capital of france?\n",
      "A) London\n",
      "B) Berlin\n",
      "C) Paris\n",
      "D) Madrid\n"
     ]
    },
    {
     "name": "stdin",
     "output_type": "stream",
     "text": [
      "Enter your answer (A/B/C/D): C\n"
     ]
    },
    {
     "name": "stdout",
     "output_type": "stream",
     "text": [
      "correct!\n",
      "\n",
      "\n",
      "which planet is known as the 'Red Planet'?\n",
      "A) Earth\n",
      "B) Mars\n",
      "C) venus\n",
      "D) Jupiter\n"
     ]
    },
    {
     "name": "stdin",
     "output_type": "stream",
     "text": [
      "Enter your answer (A/B/C/D): B\n"
     ]
    },
    {
     "name": "stdout",
     "output_type": "stream",
     "text": [
      "correct!\n",
      "\n",
      "\n",
      "what is the largest mammal in the world?\n",
      "A) Elephant\n",
      "B) Giraffe\n",
      "C) Blue Whale\n",
      "D) Lion\n"
     ]
    },
    {
     "name": "stdin",
     "output_type": "stream",
     "text": [
      "Enter your answer (A/B/C/D): C\n"
     ]
    },
    {
     "name": "stdout",
     "output_type": "stream",
     "text": [
      "correct!\n",
      "\n",
      "\n",
      "Your final score is: 3/3\n"
     ]
    }
   ],
   "source": [
    "questions = [{\"question\":\" what is the capital of france?\",\n",
    "              \"choices\": [\"A) London\", \"B) Berlin\", \"C) Paris\", \"D) Madrid\"],\n",
    "              \"correct_answer\": \"C\"}, {\"question\": \"which planet is known as the 'Red Planet'?\",\n",
    "                                       \"choices\": [\"A) Earth\", \"B) Mars\", \"C) venus\", \"D) Jupiter\"],\n",
    "                                       \"correct_answer\": \"B\"}, {\"question\": \"what is the largest mammal in the world?\",\n",
    "                                                                \"choices\": [\"A) Elephant\", \"B) Giraffe\", \"C) Blue Whale\", \"D) Lion\"],\n",
    "                                                                \"correct_answer\": \"C\"}]\n",
    "\n",
    "score = 0\n",
    "\n",
    "def ask_question(question_obj):\n",
    "    print(question_obj[\"question\"])\n",
    "    for choice in question_obj[\"choices\"]:\n",
    "        print(choice)\n",
    "        \n",
    "    player_answer = input(\"Enter your answer (A/B/C/D):\").upper()\n",
    "                \n",
    "    if player_answer == question_obj[\"correct_answer\"]:\n",
    "        print(\"correct!\")\n",
    "        return 1\n",
    "    else:\n",
    "          print(f\"wrong! The correct answeris {question_obj['correct_answer']}.\")\n",
    "          return 0\n",
    "                          \n",
    "for question in questions:\n",
    "    score += ask_question(question)\n",
    "    print(\"\\n\")\n",
    "                          \n",
    "    \n",
    "print(f\"Your final score is: {score}/{len(question)}\")\n",
    "                          "
   ]
  },
  {
   "cell_type": "code",
   "execution_count": 7,
   "id": "677318db-8473-4acc-8fe5-7147ad0cba92",
   "metadata": {},
   "outputs": [
    {
     "name": "stdin",
     "output_type": "stream",
     "text": [
      "Enter a year:   2010\n"
     ]
    },
    {
     "name": "stdout",
     "output_type": "stream",
     "text": [
      "2010 is not a prime year.\n"
     ]
    }
   ],
   "source": [
    "def is_prime(year):\n",
    "    if year <= 1:\n",
    "        return False\n",
    "    elif year <= 3:\n",
    "        return True\n",
    "    elif year % 2 == 0 or year % 3 == 0:\n",
    "        return False\n",
    "    \n",
    "    i = 5\n",
    "    while i * i <= year:\n",
    "        if year % i == 0 or year % (i + 2) == 0:\n",
    "            return False\n",
    "        \n",
    "        i += 6\n",
    "        \n",
    "    return True\n",
    "\n",
    "year = int(input(\"Enter a year:\"))\n",
    "\n",
    "if is_prime(year):\n",
    "    print(f\"{year} is a prime year.\")\n",
    "else:\n",
    "    print(f\"{year} is not a prime year.\")"
   ]
  },
  {
   "cell_type": "code",
   "execution_count": 8,
   "id": "ce05ded3-93c3-4a50-be94-be6bea004039",
   "metadata": {},
   "outputs": [
    {
     "name": "stdin",
     "output_type": "stream",
     "text": [
      "enter the 1st number. 3\n",
      "enter the 2nd number. 2\n",
      "enter the 3rd number. 8\n"
     ]
    },
    {
     "name": "stdout",
     "output_type": "stream",
     "text": [
      "sorted numbers in ascending order: [2.0, 3.0, 8.0]\n"
     ]
    }
   ],
   "source": [
    "num1 = float(input(\"enter the 1st number.\"))\n",
    "num2 = float(input(\"enter the 2nd number.\"))\n",
    "num3 = float(input(\"enter the 3rd number.\"))\n",
    "\n",
    "if num1 <= num2 <= num3:\n",
    "    sorted_nums = [num1, num2, num3]\n",
    "elif num1 <= num3 <= num2:\n",
    "    sorted_nums = [num1, num3,num2]\n",
    "elif num2 <= num1 <= num3:\n",
    "    sorted_nums = [num2, num1, num3]\n",
    "elif num2 <= num3 <= num1:\n",
    "    sorted_nums = [num2, num3, num1]\n",
    "elif num3 <= num1 <= num2:\n",
    "    sorted_nums = [num3, num1, num2]\n",
    "else:\n",
    "    sorted_nums = [num3, num2, num1]\n",
    "    \n",
    "    \n",
    "print(\"sorted numbers in ascending order:\", sorted_nums)\n"
   ]
  },
  {
   "cell_type": "code",
   "execution_count": 9,
   "id": "54feb9da-2278-4c07-a413-51526fe5a8c7",
   "metadata": {},
   "outputs": [
    {
     "name": "stdout",
     "output_type": "stream",
     "text": [
      "Roots: (2.0, 1.0)\n"
     ]
    }
   ],
   "source": [
    "import math\n",
    "\n",
    "def quadratic_roots(a, b, c):\n",
    "    \n",
    "    discriminant = b**2 - 4*a*c\n",
    "    \n",
    "    if discriminant > 0:\n",
    "        \n",
    "        root1 =(-b + math.sqrt(discriminant)) / (2*a)\n",
    "        root2 =(-b - math.sqrt(discriminant)) / (2*a)\n",
    "        return root1, root2\n",
    "    elif discriminat == 0:\n",
    "        \n",
    "        root = -b / (2*a)\n",
    "        return root\n",
    "    else:\n",
    "        real_part = -b / (2*a)\n",
    "        imaginary_part = math.sqrt(abs(discriminant)) / (2*a)\n",
    "        root1 = complex(real_part, imaginary_part)\n",
    "        root2 = complex(real_part, -imaginary_part)\n",
    "        return root1, root2\n",
    "    \n",
    "    \n",
    "a = 1\n",
    "b = -3\n",
    "c = 2\n",
    "roots = quadratic_roots(a, b, c)\n",
    "print(\"Roots:\", roots)"
   ]
  },
  {
   "cell_type": "code",
   "execution_count": 11,
   "id": "7c18ae9e-ebb1-47e8-9535-d8099cc24d9d",
   "metadata": {},
   "outputs": [
    {
     "name": "stdin",
     "output_type": "stream",
     "text": [
      "entery your weight in kilograms:  65\n",
      "entery your height in meter: 5.6\n"
     ]
    },
    {
     "name": "stdout",
     "output_type": "stream",
     "text": [
      "Your BMI is: 2.07\n",
      "You are underweight. It's important to maintain a balanced diet and consider consulting a nutritionist.\n"
     ]
    }
   ],
   "source": [
    "def calculate_bmi(weight_kg, height_m):\n",
    "    bmi = weight_kg / (height_m ** 2)\n",
    "    return bmi\n",
    "\n",
    "def get_health_recommendation(bmi):\n",
    "    if bmi < 18.5:\n",
    "        return \"You are underweight. It's important to maintain a balanced diet and consider consulting a nutritionist.\"\n",
    "    elif 18.5 <= bmi <=24.9:\n",
    "        return \"Your BMI is in the healthy range. keep up the good work!\"\n",
    "    elif 25 <= bmi <= 29.9:\n",
    "        return \"You are overweight, consider adobting a healthier diet and incorporating regular exercise.\"\n",
    "    else:\n",
    "        return \"You are obese. It's crucial to consult a healthcare professional for guidance on weight management.\"\n",
    "    \n",
    "weight_kg = float(input( \"entery your weight in kilograms:\"))\n",
    "height_m = float(input(\"entery your height in meter:\"))\n",
    "\n",
    "bmi = calculate_bmi(weight_kg, height_m)\n",
    "\n",
    "recommendation = get_health_recommendation(bmi)\n",
    "\n",
    "print(f\"Your BMI is: {bmi:.2f}\")\n",
    "print(recommendation)"
   ]
  },
  {
   "cell_type": "code",
   "execution_count": 12,
   "id": "8d705d78-9ed9-4e93-85d6-fb9be3aa1e13",
   "metadata": {},
   "outputs": [
    {
     "name": "stdin",
     "output_type": "stream",
     "text": [
      "entera password:  Naukri@123\n"
     ]
    },
    {
     "name": "stdout",
     "output_type": "stream",
     "text": [
      "Invalid password.make sure it meets the complexity requirements.\n"
     ]
    }
   ],
   "source": [
    "import re\n",
    "\n",
    "def is_valid_password(password):\n",
    "    #difine complexity rules using regular expressions\n",
    "    #at least 8 characters long\n",
    "    #contains at least one uppercase letter\n",
    "    #contains at least one lowercase letter\n",
    "    #contains at least one digit\n",
    "    #contains at least one special character(e.g., !@#$%^&*)\n",
    "    \n",
    "    regex = r'^(?=.*[A-Z])(?=.*[a-z])(?=.*\\d)(?=.*[@$!%*?&])[A-Za-z\\d@$!%*?&]{8,}$'\n",
    "    \n",
    "    \n",
    "    if re.match(regex,password):\n",
    "        return True\n",
    "    else:\n",
    "        return False\n",
    "    \n",
    "password = input(\"entera password:\")\n",
    "\n",
    "if is_valid_password(password):\n",
    "    print(\"valid password. Good job!\")\n",
    "else:\n",
    "    print(\"Invalid password.make sure it meets the complexity requirements.\")"
   ]
  },
  {
   "cell_type": "code",
   "execution_count": 3,
   "id": "6f3abd22-6633-4994-acd1-0b44e87c529d",
   "metadata": {},
   "outputs": [
    {
     "name": "stdin",
     "output_type": "stream",
     "text": [
      "enter the number of rows for the matrices:  4\n",
      "enter the number of columns for the matrices: 5\n"
     ]
    },
    {
     "name": "stdout",
     "output_type": "stream",
     "text": [
      "enter elements for the first matrix:\n"
     ]
    },
    {
     "name": "stdin",
     "output_type": "stream",
     "text": [
      "enter element at row {i +1},column {j + 1}: 1\n",
      "enter element at row {i +1},column {j + 1}: 2\n",
      "enter element at row {i +1},column {j + 1}: 3\n",
      "enter element at row {i +1},column {j + 1}: 4\n",
      "enter element at row {i +1},column {j + 1}: 9\n"
     ]
    },
    {
     "ename": "NameError",
     "evalue": "name 'matrix1' is not defined",
     "output_type": "error",
     "traceback": [
      "\u001b[0;31m---------------------------------------------------------------------------\u001b[0m",
      "\u001b[0;31mNameError\u001b[0m                                 Traceback (most recent call last)",
      "Cell \u001b[0;32mIn[3], line 29\u001b[0m\n\u001b[1;32m     26\u001b[0m \u001b[38;5;28mprint\u001b[39m(\u001b[38;5;124m\"\u001b[39m\u001b[38;5;124menter elements for the first matrix:\u001b[39m\u001b[38;5;124m\"\u001b[39m)\n\u001b[1;32m     27\u001b[0m matrix2 \u001b[38;5;241m=\u001b[39m input_matrix(rows, cols)\n\u001b[0;32m---> 29\u001b[0m addition_result \u001b[38;5;241m=\u001b[39m matrix_addition(\u001b[43mmatrix1\u001b[49m, matrix2)\n\u001b[1;32m     30\u001b[0m subtraction_result \u001b[38;5;241m=\u001b[39m matrix_subtraction(matrix1, matrix2)\n\u001b[1;32m     33\u001b[0m \u001b[38;5;28mprint\u001b[39m(\u001b[38;5;124m\"\u001b[39m\u001b[38;5;130;01m\\n\u001b[39;00m\u001b[38;5;124mMatrix Addition Result:\u001b[39m\u001b[38;5;124m\"\u001b[39m)\n",
      "\u001b[0;31mNameError\u001b[0m: name 'matrix1' is not defined"
     ]
    }
   ],
   "source": [
    "def matrix_addition(matrix1, matrix2):\n",
    "    result = []\n",
    "    for i in range(len(matrix1)):\n",
    "        row = []\n",
    "        for j in range(len(matrix1[0])):\n",
    "            row.append(matrix1[i][j]) - matrix2[i][j]\n",
    "        result.append(row)\n",
    "    return result\n",
    "def input_matrix(rows, cols):\n",
    "    matrix = []\n",
    "    for i in range(rows):\n",
    "        row = []\n",
    "        for j in range(cols):\n",
    "            value = float(input(\"enter element at row {i +1},column {j + 1}:\"))\n",
    "            row.append(row)\n",
    "        return matrix\n",
    "    \n",
    "def print_matrix(matrix):\n",
    "    for row in matrix:\n",
    "        print(row)\n",
    "        \n",
    "        \n",
    "rows = int(input(\"enter the number of rows for the matrices:\"))\n",
    "cols = int(input(\"enter the number of columns for the matrices:\"))\n",
    "\n",
    "print(\"enter elements for the first matrix:\")\n",
    "matrix2 = input_matrix(rows, cols)\n",
    "\n",
    "addition_result = matrix_addition(matrix1, matrix2)\n",
    "subtraction_result = matrix_subtraction(matrix1, matrix2)\n",
    "\n",
    "\n",
    "print(\"\\nMatrix Addition Result:\")\n",
    "print_matrix(addition_result)\n",
    "\n",
    "print(\"\\nMatrix Subtraction Result:\")\n",
    "print_matrix(subtraction_result)\n",
    "            "
   ]
  },
  {
   "cell_type": "code",
   "execution_count": 7,
   "id": "de08c934-012f-4dfb-a7ea-2357d8f8d6ab",
   "metadata": {},
   "outputs": [
    {
     "name": "stdin",
     "output_type": "stream",
     "text": [
      "enter the first number 25\n",
      "enter the second number  66\n"
     ]
    },
    {
     "name": "stdout",
     "output_type": "stream",
     "text": [
      " The GCD of 25 and 66 is 1\n"
     ]
    }
   ],
   "source": [
    "def euclidean_gcd(a, b):\n",
    "    while b:\n",
    "        a, b = b, a % b\n",
    "    return a\n",
    "\n",
    "num1 = int(input(\"enter the first number\"))\n",
    "num2 = int(input(\"enter the second number\"))\n",
    "\n",
    "gcd = euclidean_gcd(num1, num2)\n",
    "\n",
    "print(f\" The GCD of {num1} and {num2} is {gcd}\")"
   ]
  },
  {
   "cell_type": "code",
   "execution_count": 12,
   "id": "232829ab-7b78-477b-9522-688732be7c5b",
   "metadata": {},
   "outputs": [
    {
     "name": "stdout",
     "output_type": "stream",
     "text": [
      "[30, 24, 18]\n",
      "[84, 69, 54]\n",
      "[138, 114, 90]\n"
     ]
    }
   ],
   "source": [
    "matrix1 = [[1, 2, 3],\n",
    "           [4, 5, 6],\n",
    "           [7, 8, 9]]\n",
    "\n",
    "matrix2 = [[9, 8, 7],\n",
    "           [6, 5, 4],\n",
    "           [3, 2, 1]]\n",
    "\n",
    "result = [[0, 0, 0],\n",
    "          [0, 0, 0],\n",
    "          [0, 0, 0]]\n",
    "\n",
    "\n",
    "for i in range(len(matrix1)):\n",
    "    for j in range(len(matrix2[0])):\n",
    "        for k in range(len(matrix2)):\n",
    "            result[i][j] += matrix1[i][k] * matrix2[k][j]\n",
    "            \n",
    "            \n",
    "for row in result:\n",
    "    print(row)"
   ]
  },
  {
   "cell_type": "code",
   "execution_count": 3,
   "id": "2e2a7a22-e1cb-4669-8356-3360571c556f",
   "metadata": {},
   "outputs": [
    {
     "name": "stdin",
     "output_type": "stream",
     "text": [
      "Enter the value of n  15\n"
     ]
    },
    {
     "name": "stdout",
     "output_type": "stream",
     "text": [
      "The 15th fibonacci number is, 610\n"
     ]
    }
   ],
   "source": [
    "def fibonacci(n):\n",
    "    if n <= 0:\n",
    "        return 0\n",
    "    elif n == 1:\n",
    "        return 1\n",
    "    else:\n",
    "        return fibonacci(n - 1) + fibonacci(n - 2)\n",
    "    \n",
    "n = int(input(\"Enter the value of n\"))\n",
    "\n",
    "if n < 0:\n",
    "    print(\"The fibonacci number is not defined for negative number\")\n",
    "    \n",
    "else:\n",
    "    result = fibonacci(n)\n",
    "    print(f\"The {n}th fibonacci number is, {result}\")"
   ]
  },
  {
   "cell_type": "code",
   "execution_count": 2,
   "id": "1537f796-71ba-4cb5-b2c8-7ea9b8882f69",
   "metadata": {},
   "outputs": [
    {
     "name": "stdin",
     "output_type": "stream",
     "text": [
      "Enter the number of fibonacci terms to generate  12\n"
     ]
    },
    {
     "name": "stdout",
     "output_type": "stream",
     "text": [
      "The first 12 fibonacci numbers are:[0, 1, 1, 2, 3, 5, 8, 13, 21, 34, 55, 89]\n"
     ]
    }
   ],
   "source": [
    "def generate_fibonacci_sequence(n):\n",
    "    \n",
    "    fibonacci_sequence = [0, 1]\n",
    "    \n",
    "    while len(fibonacci_sequence) < n:\n",
    "        next_fibonacci = fibonacci_sequence[-1] + fibonacci_sequence[-2]\n",
    "        fibonacci_sequence.append(next_fibonacci)\n",
    "        \n",
    "    return fibonacci_sequence\n",
    "\n",
    "n = int(input(\"Enter the number of fibonacci terms to generate\"))\n",
    "\n",
    "if n <=0:\n",
    "    print(\"Please enter a positive integer\")\n",
    "    \n",
    "else:\n",
    "    fibonacci_sequence = generate_fibonacci_sequence(n)\n",
    "    print(f\"The first {n} fibonacci numbers are:{fibonacci_sequence}\")"
   ]
  },
  {
   "cell_type": "code",
   "execution_count": 3,
   "id": "fd78ffcc-598d-48e4-9948-e9a7e589d358",
   "metadata": {},
   "outputs": [
    {
     "name": "stdin",
     "output_type": "stream",
     "text": [
      "Enter the value of n  5\n"
     ]
    },
    {
     "ename": "TypeError",
     "evalue": "unsupported operand type(s) for +: 'int' and 'NoneType'",
     "output_type": "error",
     "traceback": [
      "\u001b[0;31m---------------------------------------------------------------------------\u001b[0m",
      "\u001b[0;31mTypeError\u001b[0m                                 Traceback (most recent call last)",
      "Cell \u001b[0;32mIn[3], line 23\u001b[0m\n\u001b[1;32m     20\u001b[0m     \u001b[38;5;28mprint\u001b[39m(\u001b[38;5;124m\"\u001b[39m\u001b[38;5;124mFibonacci sequence is not defined for negative numbers\u001b[39m\u001b[38;5;124m\"\u001b[39m)\n\u001b[1;32m     22\u001b[0m \u001b[38;5;28;01melse\u001b[39;00m:\n\u001b[0;32m---> 23\u001b[0m     result \u001b[38;5;241m=\u001b[39m \u001b[43mfibonacci_with_memoization\u001b[49m\u001b[43m(\u001b[49m\u001b[43mn\u001b[49m\u001b[43m)\u001b[49m\n\u001b[1;32m     24\u001b[0m     \u001b[38;5;28mprint\u001b[39m(\u001b[38;5;124mf\u001b[39m\u001b[38;5;124m\"\u001b[39m\u001b[38;5;124mThe \u001b[39m\u001b[38;5;132;01m{\u001b[39;00mn\u001b[38;5;132;01m}\u001b[39;00m\u001b[38;5;124mth fibonacci number is (result)\u001b[39m\u001b[38;5;124m\"\u001b[39m)\n",
      "Cell \u001b[0;32mIn[3], line 14\u001b[0m, in \u001b[0;36mfibonacci_with_memoization\u001b[0;34m(n)\u001b[0m\n\u001b[1;32m     12\u001b[0m     \u001b[38;5;28;01mreturn\u001b[39;00m \u001b[38;5;241m1\u001b[39m\n\u001b[1;32m     13\u001b[0m \u001b[38;5;28;01melse\u001b[39;00m:\n\u001b[0;32m---> 14\u001b[0m     result \u001b[38;5;241m=\u001b[39m \u001b[43mfibonacci_with_memoization\u001b[49m\u001b[43m(\u001b[49m\u001b[43mn\u001b[49m\u001b[43m \u001b[49m\u001b[38;5;241;43m-\u001b[39;49m\u001b[43m \u001b[49m\u001b[38;5;241;43m1\u001b[39;49m\u001b[43m)\u001b[49m \u001b[38;5;241m+\u001b[39m fibonacci_with_memoization(n \u001b[38;5;241m-\u001b[39m \u001b[38;5;241m2\u001b[39m)\n\u001b[1;32m     15\u001b[0m     fibonacci_cache[n] \u001b[38;5;241m=\u001b[39m result\n\u001b[1;32m     16\u001b[0m     \u001b[38;5;28;01mreturn\u001b[39;00m result\n",
      "Cell \u001b[0;32mIn[3], line 14\u001b[0m, in \u001b[0;36mfibonacci_with_memoization\u001b[0;34m(n)\u001b[0m\n\u001b[1;32m     12\u001b[0m     \u001b[38;5;28;01mreturn\u001b[39;00m \u001b[38;5;241m1\u001b[39m\n\u001b[1;32m     13\u001b[0m \u001b[38;5;28;01melse\u001b[39;00m:\n\u001b[0;32m---> 14\u001b[0m     result \u001b[38;5;241m=\u001b[39m \u001b[43mfibonacci_with_memoization\u001b[49m\u001b[43m(\u001b[49m\u001b[43mn\u001b[49m\u001b[43m \u001b[49m\u001b[38;5;241;43m-\u001b[39;49m\u001b[43m \u001b[49m\u001b[38;5;241;43m1\u001b[39;49m\u001b[43m)\u001b[49m \u001b[38;5;241m+\u001b[39m fibonacci_with_memoization(n \u001b[38;5;241m-\u001b[39m \u001b[38;5;241m2\u001b[39m)\n\u001b[1;32m     15\u001b[0m     fibonacci_cache[n] \u001b[38;5;241m=\u001b[39m result\n\u001b[1;32m     16\u001b[0m     \u001b[38;5;28;01mreturn\u001b[39;00m result\n",
      "    \u001b[0;31m[... skipping similar frames: fibonacci_with_memoization at line 14 (1 times)]\u001b[0m\n",
      "Cell \u001b[0;32mIn[3], line 14\u001b[0m, in \u001b[0;36mfibonacci_with_memoization\u001b[0;34m(n)\u001b[0m\n\u001b[1;32m     12\u001b[0m     \u001b[38;5;28;01mreturn\u001b[39;00m \u001b[38;5;241m1\u001b[39m\n\u001b[1;32m     13\u001b[0m \u001b[38;5;28;01melse\u001b[39;00m:\n\u001b[0;32m---> 14\u001b[0m     result \u001b[38;5;241m=\u001b[39m \u001b[43mfibonacci_with_memoization\u001b[49m\u001b[43m(\u001b[49m\u001b[43mn\u001b[49m\u001b[43m \u001b[49m\u001b[38;5;241;43m-\u001b[39;49m\u001b[43m \u001b[49m\u001b[38;5;241;43m1\u001b[39;49m\u001b[43m)\u001b[49m\u001b[43m \u001b[49m\u001b[38;5;241;43m+\u001b[39;49m\u001b[43m \u001b[49m\u001b[43mfibonacci_with_memoization\u001b[49m\u001b[43m(\u001b[49m\u001b[43mn\u001b[49m\u001b[43m \u001b[49m\u001b[38;5;241;43m-\u001b[39;49m\u001b[43m \u001b[49m\u001b[38;5;241;43m2\u001b[39;49m\u001b[43m)\u001b[49m\n\u001b[1;32m     15\u001b[0m     fibonacci_cache[n] \u001b[38;5;241m=\u001b[39m result\n\u001b[1;32m     16\u001b[0m     \u001b[38;5;28;01mreturn\u001b[39;00m result\n",
      "\u001b[0;31mTypeError\u001b[0m: unsupported operand type(s) for +: 'int' and 'NoneType'"
     ]
    }
   ],
   "source": [
    "fibonacci_cache = {}\n",
    "\n",
    "def fibonacci_with_memoization(n):\n",
    "    \n",
    "    if n in fibonacci_cache:\n",
    "        return fibonacci_cache[n]\n",
    "    \n",
    "    \n",
    "    if n <= 0:\n",
    "        result = 0\n",
    "    elif n == 1:\n",
    "        return 1\n",
    "    else:\n",
    "        result = fibonacci_with_memoization(n - 1) + fibonacci_with_memoization(n - 2)\n",
    "        fibonacci_cache[n] = result\n",
    "        return result\n",
    "    \n",
    "n = int(input(\"Enter the value of n\"))\n",
    "if n <0:\n",
    "    print(\"Fibonacci sequence is not defined for negative numbers\")\n",
    "    \n",
    "else:\n",
    "    result = fibonacci_with_memoization(n)\n",
    "    print(f\"The {n}th fibonacci number is (result)\")\n"
   ]
  },
  {
   "cell_type": "code",
   "execution_count": 3,
   "id": "c483f8fa-0f0e-489a-b349-7551eb0050db",
   "metadata": {},
   "outputs": [
    {
     "name": "stdin",
     "output_type": "stream",
     "text": [
      "Enter the year 1988\n",
      "Enter the month (1-12)  7\n"
     ]
    },
    {
     "name": "stdout",
     "output_type": "stream",
     "text": [
      "\n",
      "calendar:\n",
      "     July 1988\n",
      "Mo Tu We Th Fr Sa Su\n",
      "             1  2  3\n",
      " 4  5  6  7  8  9 10\n",
      "11 12 13 14 15 16 17\n",
      "18 19 20 21 22 23 24\n",
      "25 26 27 28 29 30 31\n",
      "\n"
     ]
    }
   ],
   "source": [
    "import calendar\n",
    "\n",
    "year = int(input(\"Enter the year\"))\n",
    "month = int(input(\"Enter the month (1-12)\"))\n",
    "\n",
    "if month < 1 or month >12:\n",
    "    print(\"Invalid month.please enter a number between 1 and 12\")\n",
    "    \n",
    "else:\n",
    "    cal = calendar.month(year, month)\n",
    "    \n",
    "    \n",
    "    print(\"\\ncalendar:\")\n",
    "    print(cal)"
   ]
  },
  {
   "cell_type": "code",
   "execution_count": 2,
   "id": "18da0c28-92ad-4949-bbc0-a1ac7c50f671",
   "metadata": {},
   "outputs": [
    {
     "name": "stdin",
     "output_type": "stream",
     "text": [
      "Enter a number  4\n"
     ]
    },
    {
     "name": "stdout",
     "output_type": "stream",
     "text": [
      "Prime factors of 4 are: [2, 2]\n"
     ]
    }
   ],
   "source": [
    "def prime_factors(n):\n",
    "    factors = []\n",
    "    divisor = 2\n",
    "    \n",
    "    while n >1:\n",
    "        while n % divisor == 0:\n",
    "            factors.append(divisor)\n",
    "            n //= divisor\n",
    "            \n",
    "            \n",
    "        divisor += 1\n",
    "    return factors\n",
    "num = int(input(\"Enter a number\"))\n",
    "if num < 2:\n",
    "    print(\"Prime factors are not defined for numbers less than 2,\")\n",
    "else:\n",
    "    factors = prime_factors(num)\n",
    "    print(f\"Prime factors of {num} are: {factors}\")"
   ]
  },
  {
   "cell_type": "code",
   "execution_count": 10,
   "id": "8a403935-29c3-4e6f-8175-d1beff6d4911",
   "metadata": {},
   "outputs": [
    {
     "name": "stdout",
     "output_type": "stream",
     "text": [
      "\n",
      "Your hand:\n",
      "king of clubs\n",
      "eight of diamonds\n",
      "Total value: 18\n",
      "\n",
      "computer's hand:\n",
      "king of diamonds\n",
      "\n"
     ]
    },
    {
     "name": "stdin",
     "output_type": "stream",
     "text": [
      "Do you want to 'hit' or 'stand'? hit\n"
     ]
    },
    {
     "name": "stdout",
     "output_type": "stream",
     "text": [
      "\n",
      "Your hand:\n",
      "king of clubs\n",
      "eight of diamonds\n",
      "three of clubs\n",
      "Total value: 21\n",
      "\n",
      "computer's hand:\n",
      "king of diamonds\n",
      "\n",
      "Congratulations! you have a BlackJack!\n"
     ]
    }
   ],
   "source": [
    "import random \n",
    "\n",
    "suits = ['hearts', 'diamonds', 'clubs', 'spades']\n",
    "ranks = ['two', 'three', 'four', 'five', 'six', 'seven', 'eight', 'nine', 'ten', 'jack', 'queen', 'king', 'ace']\n",
    "values = {'two':2, 'three':3, 'four':4, 'five':5, 'six':6, 'seven':7, 'eight':8, 'nine':9, 'ten':10, 'jack':10, 'queen':10, 'king':10, 'ace':11}\n",
    "\n",
    "def create_deck():\n",
    "    deck = [{'Rank': rank, 'suit': suit} for suit in suits for rank in ranks]\n",
    "    random.shuffle(deck)\n",
    "    return deck\n",
    "\n",
    "def calculate_hand_value(hand):\n",
    "    value = 0\n",
    "    num_aces = 0\n",
    "    for card in hand:\n",
    "        rank = card['Rank']\n",
    "        value += values[rank]\n",
    "        if rank == 'ace':\n",
    "            num_aces += 1\n",
    "    while value > 21 and num_aces > 0:\n",
    "        value -= 10\n",
    "        num_aces -= 1\n",
    "    return value\n",
    "\n",
    "\n",
    "deck = create_deck()\n",
    "player_hand = [deck.pop(), deck.pop()]\n",
    "computer_hand = [deck.pop(), deck.pop()]\n",
    "\n",
    "\n",
    "while True:\n",
    "    \n",
    "    print(\"\\nYour hand:\")\n",
    "    for card in player_hand:\n",
    "        print(f\"{card['Rank']} of {card['suit']}\")\n",
    "    print(f\"Total value: {calculate_hand_value(player_hand)}\\n\")\n",
    "    print(f\"computer's hand:\\n{computer_hand[0]['Rank']} of {computer_hand[0]['suit']}\\n\")\n",
    "    \n",
    "    \n",
    "    if calculate_hand_value(player_hand) == 21:\n",
    "        print(\"Congratulations! you have a BlackJack!\")\n",
    "        break\n",
    "    elif calculate_hand_value(player_hand) > 21:\n",
    "        print(\"Bust! you lose.\")\n",
    "        break\n",
    "        \n",
    "    move = input(\"Do you want to 'hit' or 'stand'?\").lower()\n",
    "    \n",
    "    \n",
    "    if move == 'hit':\n",
    "        player_hand.append(deck.pop())\n",
    "    elif move == 'stand':\n",
    "        while calculate_hand_value(computer_hand) < 17:\n",
    "            computer_hand.append(deck.pop())\n",
    "        print(\"\\ncomputer's hand\")\n",
    "        for card in computer_hand:\n",
    "            print(f\"{card['Rank']} of {card['suit']}\")\n",
    "        print(f\"Total value:{calculate_hand_value(computer_hand)}\\n\")\n",
    "        \n",
    "        if calculate_hand_value(computer_hand) > 21:\n",
    "            print(\"Computer bust! tou win!\")\n",
    "        elif calculate_hand_value(player_hand) > calculate_hand_value(computer_hand):\n",
    "            print(\"you win!\")\n",
    "        elif calculate_hand_value(player_hand) < calculate_hand_value(computer_hand):\n",
    "            print(\"computer wins.\")\n",
    "        else:\n",
    "            print(\"it's a tie!\")\n",
    "        \n",
    "        break\n",
    "\n",
    "       \n",
    "    else:\n",
    "            print(\"Invalid input. please enter 'hit' or 'stand'.\")\n",
    "            \n",
    "                 \n",
    "                 \n",
    "                 "
   ]
  },
  {
   "cell_type": "code",
   "execution_count": null,
   "id": "a814e305-89ca-4840-9077-c4d3f202dd94",
   "metadata": {},
   "outputs": [],
   "source": []
  }
 ],
 "metadata": {
  "kernelspec": {
   "display_name": "Python 3 (ipykernel)",
   "language": "python",
   "name": "python3"
  },
  "language_info": {
   "codemirror_mode": {
    "name": "ipython",
    "version": 3
   },
   "file_extension": ".py",
   "mimetype": "text/x-python",
   "name": "python",
   "nbconvert_exporter": "python",
   "pygments_lexer": "ipython3",
   "version": "3.10.8"
  }
 },
 "nbformat": 4,
 "nbformat_minor": 5
}
